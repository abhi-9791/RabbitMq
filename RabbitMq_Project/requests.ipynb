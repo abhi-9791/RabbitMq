{
 "cells": [
  {
   "cell_type": "code",
   "execution_count": 20,
   "metadata": {},
   "outputs": [
    {
     "name": "stdout",
     "output_type": "stream",
     "text": [
      "Order created successfully!\n"
     ]
    }
   ],
   "source": [
    "import requests\n",
    "\n",
    "url = 'http://localhost:8000/create-order/'\n",
    "\n",
    "data = {\n",
    "    'customer_name': 'John Doe',\n",
    "    'total_amount': 100.00,\n",
    "    'customer_email':'abhipy30@gmail.com'\n",
    "}\n",
    "response = requests.post(url, data=data)\n",
    "if response.status_code == 200:\n",
    "    print(\"Order created successfully!\")\n",
    "else:\n",
    "    print(\"Failed to create order:\", response.json())\n"
   ]
  }
 ],
 "metadata": {
  "kernelspec": {
   "display_name": "rabbit_envriron",
   "language": "python",
   "name": "python3"
  },
  "language_info": {
   "codemirror_mode": {
    "name": "ipython",
    "version": 3
   },
   "file_extension": ".py",
   "mimetype": "text/x-python",
   "name": "python",
   "nbconvert_exporter": "python",
   "pygments_lexer": "ipython3",
   "version": "3.12.0"
  }
 },
 "nbformat": 4,
 "nbformat_minor": 2
}
